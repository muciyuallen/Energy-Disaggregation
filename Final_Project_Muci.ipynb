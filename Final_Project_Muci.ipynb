{
 "cells": [
  {
   "cell_type": "markdown",
   "metadata": {},
   "source": [
    "## ADS Final Project\n",
    "## Disaggregating the energy usage of residential buildings\n",
    "#### Team Members :  Haopeng Huang, Songjian Li, Muci Yu\n",
    "\n",
    "\n",
    "### Data:\n",
    "###### REDD data set, containing several weeks of power data for 6 different homes, and high-frequency current/voltage data for the main power supply of two of these homes.The data itself and the hardware used to collect it are described more thoroughly in the Readme below and in the paper:\n",
    "\n",
    "###### J. Zico Kolter and Matthew J. Johnson. REDD: A public data set for energy disaggregation research. In proceedings of the SustKDD workshop on Data Mining Applications in Sustainability, 2011. [pdf](http://redd.csail.mit.edu/kolter-kddsust11.pdf)\n",
    "\n"
   ]
  },
  {
   "cell_type": "markdown",
   "metadata": {},
   "source": [
    "##### Here we test some machine learning algorithm on extracting the refrigerator energy from mains consumptions. REDD contains data of 6 houses. We first train, test the model only on data from house 1 and check how well the model performs on the unseen-pattern data of house 2.  "
   ]
  },
  {
   "cell_type": "code",
   "execution_count": 1,
   "metadata": {},
   "outputs": [],
   "source": [
    "import numpy as np\n",
    "import pandas as pd\n",
    "import matplotlib.pyplot as plt\n",
    "%matplotlib inline\n",
    "from IPython.display import display\n",
    "import datetime\n",
    "import time\n",
    "import math\n",
    "import warnings\n",
    "warnings.filterwarnings(\"ignore\")\n",
    "import glob"
   ]
  },
  {
   "cell_type": "markdown",
   "metadata": {},
   "source": [
    "### read in the data"
   ]
  },
  {
   "cell_type": "code",
   "execution_count": 10,
   "metadata": {
    "scrolled": true
   },
   "outputs": [
    {
     "name": "stdout",
     "output_type": "stream",
     "text": [
      "House 1:  {1: 'mains_1', 2: 'mains_2', 3: 'oven_3', 4: 'oven_4', 5: 'refrigerator_5', 6: 'dishwaser_6', 7: 'kitchen_outlets_7', 8: 'kitchen_outlets_8', 9: 'lighting_9', 10: 'washer_dryer_10', 11: 'microwave_11', 12: 'bathroom_gfi_12', 13: 'electric_heat_13', 14: 'stove_14', 15: 'kitchen_outlets_15', 16: 'kitchen_outlets_16', 17: 'lighting_17', 18: 'lighting_18', 19: 'washer_dryer_19', 20: 'washer_dryer_20'} \n",
      "\n",
      "House 2:  {1: 'mains_1', 2: 'mains_2', 3: 'kitchen_outlets_3', 4: 'lighting_4', 5: 'stove_5', 6: 'microwave_6', 7: 'washer_dryer_7', 8: 'kitchen_outlets_8', 9: 'refrigerator_9', 10: 'dishwaser_10', 11: 'disposal_11'} \n",
      "\n"
     ]
    }
   ],
   "source": [
    "def read_label():\n",
    "    label = {}\n",
    "    for i in range(1, 7):\n",
    "        path = 'Data/low_freq/house_{}/labels.dat'.format(i)\n",
    "        label[i] = {}\n",
    "        with open(path) as f:\n",
    "            for line in f:\n",
    "                splitted_line = line.split(' ')\n",
    "                label[i][int(splitted_line[0])] = splitted_line[1].strip() + '_' + splitted_line[0]\n",
    "    return label\n",
    "labels = read_label()\n",
    "for i in range(1,3):\n",
    "    print('House {}: '.format(i), labels[i], '\\n')"
   ]
  },
  {
   "cell_type": "code",
   "execution_count": 11,
   "metadata": {},
   "outputs": [],
   "source": [
    "def read_merge_data(house):\n",
    "    path = 'Data/low_freq/house_{}/'.format(house)\n",
    "    file = path + 'channel_1.dat'\n",
    "    df = pd.read_table(file, sep = ' ', names = ['unix_time', labels[house][1]], \n",
    "                                       dtype = {'unix_time': 'int64', labels[house][1]:'float64'}) \n",
    "    \n",
    "    num_apps = len(glob.glob(path + 'channel*'))\n",
    "    for i in range(2, num_apps + 1):\n",
    "        file = path + 'channel_{}.dat'.format(i)\n",
    "        data = pd.read_table(file, sep = ' ', names = ['unix_time', labels[house][i]], \n",
    "                                       dtype = {'unix_time': 'int64', labels[house][i]:'float64'})\n",
    "        df = pd.merge(df, data, how = 'inner', on = 'unix_time')\n",
    "    df['timestamp'] = df['unix_time'].astype(\"datetime64[s]\")\n",
    "    df = df.set_index(df['timestamp'].values)\n",
    "    df.drop(['unix_time','timestamp'], axis=1, inplace=True)\n",
    "    return df\n",
    "df = {}\n",
    "for i in range(1,4):\n",
    "    df[i] = read_merge_data(i)"
   ]
  },
  {
   "cell_type": "code",
   "execution_count": 14,
   "metadata": {},
   "outputs": [
    {
     "name": "stdout",
     "output_type": "stream",
     "text": [
      "House 1 data has shape:  (406748, 20)\n"
     ]
    },
    {
     "data": {
      "text/html": [
       "<div>\n",
       "<style scoped>\n",
       "    .dataframe tbody tr th:only-of-type {\n",
       "        vertical-align: middle;\n",
       "    }\n",
       "\n",
       "    .dataframe tbody tr th {\n",
       "        vertical-align: top;\n",
       "    }\n",
       "\n",
       "    .dataframe thead th {\n",
       "        text-align: right;\n",
       "    }\n",
       "</style>\n",
       "<table border=\"1\" class=\"dataframe\">\n",
       "  <thead>\n",
       "    <tr style=\"text-align: right;\">\n",
       "      <th></th>\n",
       "      <th>mains_1</th>\n",
       "      <th>mains_2</th>\n",
       "      <th>oven_3</th>\n",
       "      <th>oven_4</th>\n",
       "      <th>refrigerator_5</th>\n",
       "      <th>dishwaser_6</th>\n",
       "      <th>kitchen_outlets_7</th>\n",
       "      <th>kitchen_outlets_8</th>\n",
       "      <th>lighting_9</th>\n",
       "      <th>washer_dryer_10</th>\n",
       "      <th>microwave_11</th>\n",
       "      <th>bathroom_gfi_12</th>\n",
       "      <th>electric_heat_13</th>\n",
       "      <th>stove_14</th>\n",
       "      <th>kitchen_outlets_15</th>\n",
       "      <th>kitchen_outlets_16</th>\n",
       "      <th>lighting_17</th>\n",
       "      <th>lighting_18</th>\n",
       "      <th>washer_dryer_19</th>\n",
       "      <th>washer_dryer_20</th>\n",
       "    </tr>\n",
       "  </thead>\n",
       "  <tbody>\n",
       "    <tr>\n",
       "      <th>2011-05-24 19:56:27</th>\n",
       "      <td>235.46</td>\n",
       "      <td>38.61</td>\n",
       "      <td>0.0</td>\n",
       "      <td>0.0</td>\n",
       "      <td>190.0</td>\n",
       "      <td>0.0</td>\n",
       "      <td>24.0</td>\n",
       "      <td>20.0</td>\n",
       "      <td>2.0</td>\n",
       "      <td>0.0</td>\n",
       "      <td>4.0</td>\n",
       "      <td>1.0</td>\n",
       "      <td>0.0</td>\n",
       "      <td>0.0</td>\n",
       "      <td>1.0</td>\n",
       "      <td>0.0</td>\n",
       "      <td>0.0</td>\n",
       "      <td>1.0</td>\n",
       "      <td>0.0</td>\n",
       "      <td>0.0</td>\n",
       "    </tr>\n",
       "    <tr>\n",
       "      <th>2011-05-24 19:56:30</th>\n",
       "      <td>235.98</td>\n",
       "      <td>38.77</td>\n",
       "      <td>0.0</td>\n",
       "      <td>0.0</td>\n",
       "      <td>189.0</td>\n",
       "      <td>0.0</td>\n",
       "      <td>24.0</td>\n",
       "      <td>20.0</td>\n",
       "      <td>2.0</td>\n",
       "      <td>0.0</td>\n",
       "      <td>4.0</td>\n",
       "      <td>1.0</td>\n",
       "      <td>0.0</td>\n",
       "      <td>0.0</td>\n",
       "      <td>1.0</td>\n",
       "      <td>0.0</td>\n",
       "      <td>0.0</td>\n",
       "      <td>1.0</td>\n",
       "      <td>0.0</td>\n",
       "      <td>0.0</td>\n",
       "    </tr>\n",
       "    <tr>\n",
       "      <th>2011-05-24 19:56:34</th>\n",
       "      <td>235.29</td>\n",
       "      <td>38.83</td>\n",
       "      <td>0.0</td>\n",
       "      <td>0.0</td>\n",
       "      <td>186.0</td>\n",
       "      <td>0.0</td>\n",
       "      <td>26.0</td>\n",
       "      <td>20.0</td>\n",
       "      <td>2.0</td>\n",
       "      <td>0.0</td>\n",
       "      <td>4.0</td>\n",
       "      <td>1.0</td>\n",
       "      <td>0.0</td>\n",
       "      <td>0.0</td>\n",
       "      <td>1.0</td>\n",
       "      <td>0.0</td>\n",
       "      <td>0.0</td>\n",
       "      <td>1.0</td>\n",
       "      <td>0.0</td>\n",
       "      <td>0.0</td>\n",
       "    </tr>\n",
       "  </tbody>\n",
       "</table>\n",
       "</div>"
      ],
      "text/plain": [
       "                     mains_1  mains_2  oven_3  oven_4  refrigerator_5  \\\n",
       "2011-05-24 19:56:27   235.46    38.61     0.0     0.0           190.0   \n",
       "2011-05-24 19:56:30   235.98    38.77     0.0     0.0           189.0   \n",
       "2011-05-24 19:56:34   235.29    38.83     0.0     0.0           186.0   \n",
       "\n",
       "                     dishwaser_6  kitchen_outlets_7  kitchen_outlets_8  \\\n",
       "2011-05-24 19:56:27          0.0               24.0               20.0   \n",
       "2011-05-24 19:56:30          0.0               24.0               20.0   \n",
       "2011-05-24 19:56:34          0.0               26.0               20.0   \n",
       "\n",
       "                     lighting_9  washer_dryer_10  microwave_11  \\\n",
       "2011-05-24 19:56:27         2.0              0.0           4.0   \n",
       "2011-05-24 19:56:30         2.0              0.0           4.0   \n",
       "2011-05-24 19:56:34         2.0              0.0           4.0   \n",
       "\n",
       "                     bathroom_gfi_12  electric_heat_13  stove_14  \\\n",
       "2011-05-24 19:56:27              1.0               0.0       0.0   \n",
       "2011-05-24 19:56:30              1.0               0.0       0.0   \n",
       "2011-05-24 19:56:34              1.0               0.0       0.0   \n",
       "\n",
       "                     kitchen_outlets_15  kitchen_outlets_16  lighting_17  \\\n",
       "2011-05-24 19:56:27                 1.0                 0.0          0.0   \n",
       "2011-05-24 19:56:30                 1.0                 0.0          0.0   \n",
       "2011-05-24 19:56:34                 1.0                 0.0          0.0   \n",
       "\n",
       "                     lighting_18  washer_dryer_19  washer_dryer_20  \n",
       "2011-05-24 19:56:27          1.0              0.0              0.0  \n",
       "2011-05-24 19:56:30          1.0              0.0              0.0  \n",
       "2011-05-24 19:56:34          1.0              0.0              0.0  "
      ]
     },
     "metadata": {},
     "output_type": "display_data"
    },
    {
     "name": "stdout",
     "output_type": "stream",
     "text": [
      "House 2 data has shape:  (316840, 11)\n"
     ]
    },
    {
     "data": {
      "text/html": [
       "<div>\n",
       "<style scoped>\n",
       "    .dataframe tbody tr th:only-of-type {\n",
       "        vertical-align: middle;\n",
       "    }\n",
       "\n",
       "    .dataframe tbody tr th {\n",
       "        vertical-align: top;\n",
       "    }\n",
       "\n",
       "    .dataframe thead th {\n",
       "        text-align: right;\n",
       "    }\n",
       "</style>\n",
       "<table border=\"1\" class=\"dataframe\">\n",
       "  <thead>\n",
       "    <tr style=\"text-align: right;\">\n",
       "      <th></th>\n",
       "      <th>mains_1</th>\n",
       "      <th>mains_2</th>\n",
       "      <th>kitchen_outlets_3</th>\n",
       "      <th>lighting_4</th>\n",
       "      <th>stove_5</th>\n",
       "      <th>microwave_6</th>\n",
       "      <th>washer_dryer_7</th>\n",
       "      <th>kitchen_outlets_8</th>\n",
       "      <th>refrigerator_9</th>\n",
       "      <th>dishwaser_10</th>\n",
       "      <th>disposal_11</th>\n",
       "    </tr>\n",
       "  </thead>\n",
       "  <tbody>\n",
       "    <tr>\n",
       "      <th>2011-05-22 23:59:01</th>\n",
       "      <td>10.84</td>\n",
       "      <td>252.61</td>\n",
       "      <td>0.0</td>\n",
       "      <td>9.0</td>\n",
       "      <td>0.0</td>\n",
       "      <td>5.0</td>\n",
       "      <td>0.0</td>\n",
       "      <td>2.0</td>\n",
       "      <td>158.0</td>\n",
       "      <td>0.0</td>\n",
       "      <td>0.0</td>\n",
       "    </tr>\n",
       "    <tr>\n",
       "      <th>2011-05-22 23:59:04</th>\n",
       "      <td>10.88</td>\n",
       "      <td>253.02</td>\n",
       "      <td>0.0</td>\n",
       "      <td>9.0</td>\n",
       "      <td>0.0</td>\n",
       "      <td>4.0</td>\n",
       "      <td>0.0</td>\n",
       "      <td>2.0</td>\n",
       "      <td>160.0</td>\n",
       "      <td>0.0</td>\n",
       "      <td>0.0</td>\n",
       "    </tr>\n",
       "    <tr>\n",
       "      <th>2011-05-22 23:59:08</th>\n",
       "      <td>10.84</td>\n",
       "      <td>252.77</td>\n",
       "      <td>0.0</td>\n",
       "      <td>9.0</td>\n",
       "      <td>0.0</td>\n",
       "      <td>4.0</td>\n",
       "      <td>0.0</td>\n",
       "      <td>2.0</td>\n",
       "      <td>157.0</td>\n",
       "      <td>0.0</td>\n",
       "      <td>0.0</td>\n",
       "    </tr>\n",
       "  </tbody>\n",
       "</table>\n",
       "</div>"
      ],
      "text/plain": [
       "                     mains_1  mains_2  kitchen_outlets_3  lighting_4  stove_5  \\\n",
       "2011-05-22 23:59:01    10.84   252.61                0.0         9.0      0.0   \n",
       "2011-05-22 23:59:04    10.88   253.02                0.0         9.0      0.0   \n",
       "2011-05-22 23:59:08    10.84   252.77                0.0         9.0      0.0   \n",
       "\n",
       "                     microwave_6  washer_dryer_7  kitchen_outlets_8  \\\n",
       "2011-05-22 23:59:01          5.0             0.0                2.0   \n",
       "2011-05-22 23:59:04          4.0             0.0                2.0   \n",
       "2011-05-22 23:59:08          4.0             0.0                2.0   \n",
       "\n",
       "                     refrigerator_9  dishwaser_10  disposal_11  \n",
       "2011-05-22 23:59:01           158.0           0.0          0.0  \n",
       "2011-05-22 23:59:04           160.0           0.0          0.0  \n",
       "2011-05-22 23:59:08           157.0           0.0          0.0  "
      ]
     },
     "metadata": {},
     "output_type": "display_data"
    }
   ],
   "source": [
    "for i in range(1,3):\n",
    "    print('House {} data has shape: '.format(i), df[i].shape)\n",
    "    display(df[i].tail(3))"
   ]
  },
  {
   "cell_type": "code",
   "execution_count": 18,
   "metadata": {},
   "outputs": [
    {
     "name": "stdout",
     "output_type": "stream",
     "text": [
      "House 1 data contain 23 days from 2011-04-18 to 2011-05-24.\n",
      "['2011-04-18', '2011-04-19', '2011-04-20', '2011-04-21', '2011-04-22', '2011-04-23', '2011-04-24', '2011-04-25', '2011-04-26', '2011-04-27', '2011-04-28', '2011-04-30', '2011-05-01', '2011-05-02', '2011-05-03', '2011-05-06', '2011-05-07', '2011-05-11', '2011-05-12', '2011-05-13', '2011-05-22', '2011-05-23', '2011-05-24'] \n",
      "\n",
      "House 2 data contain 16 days from 2011-04-18 to 2011-05-22.\n",
      "['2011-04-18', '2011-04-19', '2011-04-20', '2011-04-21', '2011-04-22', '2011-04-23', '2011-04-24', '2011-04-25', '2011-04-26', '2011-04-27', '2011-04-28', '2011-04-29', '2011-04-30', '2011-05-01', '2011-05-02', '2011-05-22'] \n",
      "\n",
      "House 3 data contain 26 days from 2011-04-16 to 2011-05-31.\n",
      "['2011-04-16', '2011-04-17', '2011-04-18', '2011-04-19', '2011-04-20', '2011-04-21', '2011-04-22', '2011-04-23', '2011-04-24', '2011-04-25', '2011-04-26', '2011-04-27', '2011-04-28', '2011-05-17', '2011-05-18', '2011-05-19', '2011-05-21', '2011-05-22', '2011-05-23', '2011-05-24', '2011-05-25', '2011-05-26', '2011-05-27', '2011-05-28', '2011-05-30', '2011-05-31'] \n",
      "\n"
     ]
    }
   ],
   "source": [
    "dates = {}\n",
    "for i in range(1,4):\n",
    "    dates[i] = [str(time)[:10] for time in df[i].index.values]\n",
    "    dates[i] = sorted(list(set(dates[i])))\n",
    "    print('House {0} data contain {1} days from {2} to {3}.'.format(i,len(dates[i]),dates[i][0], dates[i][-1]))\n",
    "    print(dates[i], '\\n')"
   ]
  },
  {
   "cell_type": "code",
   "execution_count": 23,
   "metadata": {},
   "outputs": [
    {
     "data": {
      "text/plain": [
       "2011-04-18 13:22:13      6.0\n",
       "2011-04-18 13:22:16      6.0\n",
       "2011-04-18 13:22:20      6.0\n",
       "2011-04-18 13:22:23      6.0\n",
       "2011-04-18 13:22:26      6.0\n",
       "2011-04-18 13:22:30      6.0\n",
       "2011-04-18 13:22:33      6.0\n",
       "2011-04-18 13:22:37      6.0\n",
       "2011-04-18 13:22:40      6.0\n",
       "2011-04-18 13:22:44      6.0\n",
       "2011-04-18 13:22:47      6.0\n",
       "2011-04-18 13:22:51      6.0\n",
       "2011-04-18 13:22:54      6.0\n",
       "2011-04-18 13:22:58      6.0\n",
       "2011-04-18 13:23:01      6.0\n",
       "2011-04-18 13:23:04      6.0\n",
       "2011-04-18 13:23:08      6.0\n",
       "2011-04-18 13:23:22      6.0\n",
       "2011-04-18 13:23:26      6.0\n",
       "2011-04-18 13:23:29      6.0\n",
       "2011-04-18 13:23:33      6.0\n",
       "2011-04-18 13:23:36      6.0\n",
       "2011-04-18 13:23:40      6.0\n",
       "2011-04-18 13:23:43      6.0\n",
       "2011-04-18 13:23:47      6.0\n",
       "2011-04-18 13:23:50      6.0\n",
       "2011-04-18 13:23:54      6.0\n",
       "2011-04-18 13:23:57      6.0\n",
       "2011-04-18 13:24:00      6.0\n",
       "2011-04-18 13:24:04      6.0\n",
       "                       ...  \n",
       "2011-05-24 18:31:14    194.0\n",
       "2011-05-24 18:31:18    198.0\n",
       "2011-05-24 18:31:21    196.0\n",
       "2011-05-24 18:31:25    195.0\n",
       "2011-05-24 18:31:34    196.0\n",
       "2011-05-24 18:31:37    194.0\n",
       "2011-05-24 18:31:41    198.0\n",
       "2011-05-24 18:31:44    195.0\n",
       "2011-05-24 18:31:48    194.0\n",
       "2011-05-24 18:31:51    197.0\n",
       "2011-05-24 18:31:55    194.0\n",
       "2011-05-24 18:31:58    194.0\n",
       "2011-05-24 18:32:01    196.0\n",
       "2011-05-24 19:55:38    189.0\n",
       "2011-05-24 19:55:42    187.0\n",
       "2011-05-24 19:55:45    187.0\n",
       "2011-05-24 19:55:49    189.0\n",
       "2011-05-24 19:55:52    190.0\n",
       "2011-05-24 19:55:56    188.0\n",
       "2011-05-24 19:55:59    186.0\n",
       "2011-05-24 19:56:03    187.0\n",
       "2011-05-24 19:56:06    188.0\n",
       "2011-05-24 19:56:10    188.0\n",
       "2011-05-24 19:56:13    190.0\n",
       "2011-05-24 19:56:17    188.0\n",
       "2011-05-24 19:56:20    186.0\n",
       "2011-05-24 19:56:23    187.0\n",
       "2011-05-24 19:56:27    190.0\n",
       "2011-05-24 19:56:30    189.0\n",
       "2011-05-24 19:56:34    186.0\n",
       "Name: refrigerator_5, Length: 406748, dtype: float64"
      ]
     },
     "execution_count": 23,
     "metadata": {},
     "output_type": "execute_result"
    }
   ],
   "source": [
    "df[1]['refrigerator_5']"
   ]
  },
  {
   "cell_type": "code",
   "execution_count": 32,
   "metadata": {},
   "outputs": [
    {
     "data": {
      "image/png": "[encoded data removed]",
      "text/plain": [
       "<Figure size 432x288 with 1 Axes>"
      ]
     },
     "metadata": {
      "needs_background": "light"
     },
     "output_type": "display_data"
    }
   ],
   "source": [
    "fig, ax = plt.subplots()\n",
    "ax.plot(df[1]['refrigerator_5'][:2000], alpha = 0.6)\n",
    "fig.tight_layout()"
   ]
  },
  {
   "cell_type": "markdown",
   "metadata": {},
   "source": [
    "### From this part I will write DNN codes"
   ]
  },
  {
   "cell_type": "code",
   "execution_count": 1,
   "metadata": {},
   "outputs": [
    {
     "name": "stdout",
     "output_type": "stream",
     "text": [
      "test git merge\n"
     ]
    }
   ],
   "source": [
    "print('test git merge')"
   ]
  },
  {
   "cell_type": "code",
   "execution_count": null,
   "metadata": {},
   "outputs": [],
   "source": []
  }
 ],
 "metadata": {
  "kernelspec": {
   "display_name": "Python 3",
   "language": "python",
   "name": "python3"
  },
  "language_info": {
   "codemirror_mode": {
    "name": "ipython",
    "version": 3
   },
   "file_extension": ".py",
   "mimetype": "text/x-python",
   "name": "python",
   "nbconvert_exporter": "python",
   "pygments_lexer": "ipython3",
   "version": "3.6.6"
  }
 },
 "nbformat": 4,
 "nbformat_minor": 2
}
