{
 "cells": [
  {
   "cell_type": "code",
   "execution_count": 1,
   "metadata": {},
   "outputs": [],
   "source": [
    "import pandas as pd\n",
    "import numpy as np\n",
    "import matplotlib.pyplot as plt\n",
    "%matplotlib inline"
   ]
  },
  {
   "cell_type": "code",
   "execution_count": 8,
   "metadata": {},
   "outputs": [
    {
     "data": {
      "text/html": [
       "<div>\n",
       "<style scoped>\n",
       "    .dataframe tbody tr th:only-of-type {\n",
       "        vertical-align: middle;\n",
       "    }\n",
       "\n",
       "    .dataframe tbody tr th {\n",
       "        vertical-align: top;\n",
       "    }\n",
       "\n",
       "    .dataframe thead th {\n",
       "        text-align: right;\n",
       "    }\n",
       "</style>\n",
       "<table border=\"1\" class=\"dataframe\">\n",
       "  <thead>\n",
       "    <tr style=\"text-align: right;\">\n",
       "      <th></th>\n",
       "      <th>Unnamed: 0</th>\n",
       "      <th>time</th>\n",
       "      <th>y_true</th>\n",
       "      <th>y_pred</th>\n",
       "    </tr>\n",
       "  </thead>\n",
       "  <tbody>\n",
       "    <tr>\n",
       "      <th>0</th>\n",
       "      <td>0</td>\n",
       "      <td>2011-05-11 07:19:47</td>\n",
       "      <td>6.0</td>\n",
       "      <td>3.541998</td>\n",
       "    </tr>\n",
       "    <tr>\n",
       "      <th>1</th>\n",
       "      <td>1</td>\n",
       "      <td>2011-05-11 07:20:08</td>\n",
       "      <td>7.0</td>\n",
       "      <td>3.541998</td>\n",
       "    </tr>\n",
       "    <tr>\n",
       "      <th>2</th>\n",
       "      <td>2</td>\n",
       "      <td>2011-05-11 07:20:17</td>\n",
       "      <td>7.0</td>\n",
       "      <td>3.541998</td>\n",
       "    </tr>\n",
       "    <tr>\n",
       "      <th>3</th>\n",
       "      <td>3</td>\n",
       "      <td>2011-05-11 07:20:20</td>\n",
       "      <td>6.0</td>\n",
       "      <td>3.541998</td>\n",
       "    </tr>\n",
       "    <tr>\n",
       "      <th>4</th>\n",
       "      <td>4</td>\n",
       "      <td>2011-05-11 07:20:24</td>\n",
       "      <td>7.0</td>\n",
       "      <td>3.541998</td>\n",
       "    </tr>\n",
       "  </tbody>\n",
       "</table>\n",
       "</div>"
      ],
      "text/plain": [
       "   Unnamed: 0                 time  y_true    y_pred\n",
       "0           0  2011-05-11 07:19:47     6.0  3.541998\n",
       "1           1  2011-05-11 07:20:08     7.0  3.541998\n",
       "2           2  2011-05-11 07:20:17     7.0  3.541998\n",
       "3           3  2011-05-11 07:20:20     6.0  3.541998\n",
       "4           4  2011-05-11 07:20:24     7.0  3.541998"
      ]
     },
     "execution_count": 8,
     "metadata": {},
     "output_type": "execute_result"
    }
   ],
   "source": [
    "r_path = 'results/'\n",
    "#import the H1 out-of-sample results\n",
    "\n",
    "H1_result = pd.read_csv(r_path+'H1_OS_refrigerator_5_results.csv')\n",
    "H1_result.head()"
   ]
  },
  {
   "cell_type": "code",
   "execution_count": 18,
   "metadata": {},
   "outputs": [
    {
     "data": {
      "text/html": [
       "<div>\n",
       "<style scoped>\n",
       "    .dataframe tbody tr th:only-of-type {\n",
       "        vertical-align: middle;\n",
       "    }\n",
       "\n",
       "    .dataframe tbody tr th {\n",
       "        vertical-align: top;\n",
       "    }\n",
       "\n",
       "    .dataframe thead th {\n",
       "        text-align: right;\n",
       "    }\n",
       "</style>\n",
       "<table border=\"1\" class=\"dataframe\">\n",
       "  <thead>\n",
       "    <tr style=\"text-align: right;\">\n",
       "      <th></th>\n",
       "      <th>y_true</th>\n",
       "      <th>y_pred</th>\n",
       "    </tr>\n",
       "    <tr>\n",
       "      <th>datetime</th>\n",
       "      <th></th>\n",
       "      <th></th>\n",
       "    </tr>\n",
       "  </thead>\n",
       "  <tbody>\n",
       "    <tr>\n",
       "      <th>2011-05-11 07:19:47</th>\n",
       "      <td>6.0</td>\n",
       "      <td>3.541998</td>\n",
       "    </tr>\n",
       "    <tr>\n",
       "      <th>2011-05-11 07:20:08</th>\n",
       "      <td>7.0</td>\n",
       "      <td>3.541998</td>\n",
       "    </tr>\n",
       "    <tr>\n",
       "      <th>2011-05-11 07:20:17</th>\n",
       "      <td>7.0</td>\n",
       "      <td>3.541998</td>\n",
       "    </tr>\n",
       "  </tbody>\n",
       "</table>\n",
       "</div>"
      ],
      "text/plain": [
       "                     y_true    y_pred\n",
       "datetime                             \n",
       "2011-05-11 07:19:47     6.0  3.541998\n",
       "2011-05-11 07:20:08     7.0  3.541998\n",
       "2011-05-11 07:20:17     7.0  3.541998"
      ]
     },
     "execution_count": 18,
     "metadata": {},
     "output_type": "execute_result"
    }
   ],
   "source": [
    "H1_result['datetime'] = pd.to_datetime(H1_result['time'])\n",
    "H1_result_ = H1_result.set_index('datetime')\n",
    "H1_result_ = H1_result_.iloc[:,-2:]\n",
    "H1_result_.head(3)"
   ]
  },
  {
   "cell_type": "code",
   "execution_count": 10,
   "metadata": {},
   "outputs": [
    {
     "ename": "SyntaxError",
     "evalue": "invalid syntax (<ipython-input-10-d11e0c98b8a8>, line 5)",
     "output_type": "error",
     "traceback": [
      "\u001b[0;36m  File \u001b[0;32m\"<ipython-input-10-d11e0c98b8a8>\"\u001b[0;36m, line \u001b[0;32m5\u001b[0m\n\u001b[0;31m    ax.plot(y)\u001b[0m\n\u001b[0m     ^\u001b[0m\n\u001b[0;31mSyntaxError\u001b[0m\u001b[0;31m:\u001b[0m invalid syntax\n"
     ]
    }
   ],
   "source": []
  },
  {
   "cell_type": "code",
   "execution_count": null,
   "metadata": {},
   "outputs": [],
   "source": []
  }
 ],
 "metadata": {
  "kernelspec": {
   "display_name": "Python 3",
   "language": "python",
   "name": "python3"
  },
  "language_info": {
   "codemirror_mode": {
    "name": "ipython",
    "version": 3
   },
   "file_extension": ".py",
   "mimetype": "text/x-python",
   "name": "python",
   "nbconvert_exporter": "python",
   "pygments_lexer": "ipython3",
   "version": "3.6.6"
  }
 },
 "nbformat": 4,
 "nbformat_minor": 2
}
